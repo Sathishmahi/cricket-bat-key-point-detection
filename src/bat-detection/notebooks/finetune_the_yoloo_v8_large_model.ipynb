{
  "cells": [
    {
      "cell_type": "code",
      "execution_count": null,
      "metadata": {
        "id": "m2kfzG4r35cy"
      },
      "outputs": [],
      "source": [
        "import zipfile\n",
        "with zipfile.ZipFile(\"cricket-bat-detection-new.zip\",\"r\") as f:\n",
        "  f.extractall()"
      ]
    },
    {
      "cell_type": "code",
      "execution_count": 12,
      "metadata": {
        "id": "flriyfTSeXFc"
      },
      "outputs": [],
      "source": [
        "# Import necessary modules\n",
        "import ast  # Import the 'ast' module for abstract syntax tree parsing\n",
        "import os  # Import the 'os' module for file and directory operations\n",
        "from xml.dom import minidom  # Import 'minidom' from 'xml.dom' for XML parsing\n",
        "\n",
        "# Create a directory named \"out\" if it doesn't exist\n",
        "os.makedirs(\"out\", exist_ok=True)\n",
        "\n",
        "# Parse the XML annotation file (replace with the actual file path)\n",
        "file = minidom.parse('annotations (3) (2).xml')\n",
        "\n",
        "# Get all 'image' elements from the XML file\n",
        "images = file.getElementsByTagName('image')\n",
        "\n",
        "# Loop through each 'image' element in the XML file\n",
        "for image in images:\n",
        "    try:\n",
        "        # Extract width, height, and name attributes from the 'image' element\n",
        "        width = int(image.getAttribute('width'))\n",
        "        height = int(image.getAttribute('height'))\n",
        "        name = image.getAttribute('name')\n",
        "\n",
        "        # Get 'points' and 'box' elements\n",
        "        elem = image.getElementsByTagName('points')\n",
        "        bbox = image.getElementsByTagName('box')[0]\n",
        "\n",
        "        # Extract coordinates for bounding box\n",
        "        xtl = int(float(bbox.getAttribute('xtl')))\n",
        "        ytl = int(float(bbox.getAttribute('ytl')))\n",
        "        xbr = int(float(bbox.getAttribute('xbr')))\n",
        "        ybr = int(float(bbox.getAttribute('ybr')))\n",
        "\n",
        "        # Calculate width and height of the bounding box\n",
        "        w = xbr - xtl\n",
        "        h = ybr - ytl\n",
        "\n",
        "        # Create a label file for writing\n",
        "        label_file = open(os.path.join(\"out\", name[:-4] + '.txt'), 'w')\n",
        "\n",
        "        # Loop through each 'points' element\n",
        "        for e in elem:\n",
        "            # Write bounding box information to the label file\n",
        "            label_file.write('0 {} {} {} {} '.format(str((xtl + (w / 2)) / width), str((ytl + (h / 2)) / height),\n",
        "                                                      str(w / width), str(h / height)))\n",
        "\n",
        "            # Extract and parse the 'points' attribute\n",
        "            points = e.attributes['points']\n",
        "            points = points.value.split(';')\n",
        "            points_ = []\n",
        "\n",
        "            # Parse and append points to the list\n",
        "            for p in points:\n",
        "                p = p.split(',')\n",
        "                p1, p2 = p\n",
        "                points_.append([int(float(p1)), int(float(p2))])\n",
        "\n",
        "            # Write point coordinates to the label file\n",
        "            for p_, p in enumerate(points_):\n",
        "                label_file.write('{} {}'.format(p[0] / width, p[1] / height))\n",
        "                if p_ < len(points_) - 1:\n",
        "                    label_file.write(' ')\n",
        "                else:\n",
        "                    label_file.write('\\n')\n",
        "    except:\n",
        "        pass\n"
      ]
    },
    {
      "cell_type": "code",
      "execution_count": 2,
      "metadata": {
        "colab": {
          "base_uri": "https://localhost:8080/"
        },
        "id": "4Gl_jT094UmZ",
        "outputId": "8f10f7e6-f9c6-4d74-d8ff-927d45003174"
      },
      "outputs": [
        {
          "output_type": "execute_result",
          "data": {
            "text/plain": [
              "137"
            ]
          },
          "metadata": {},
          "execution_count": 2
        }
      ],
      "source": [
        "import glob\n",
        "len(glob.glob(\"out/*.txt\"))"
      ]
    },
    {
      "cell_type": "code",
      "execution_count": 3,
      "metadata": {
        "id": "9qZwlsmVfDDC"
      },
      "outputs": [],
      "source": [
        "for fn in glob.glob(\"out/*.txt\"):\n",
        "  with open(fn) as f:\n",
        "    if len(f.read().split())<13 or len(f.read().split())>13 :\n",
        "      os.remove(fn)\n",
        "      # print(fn)"
      ]
    },
    {
      "cell_type": "code",
      "execution_count": 7,
      "metadata": {
        "id": "ASafS0DXfh6M"
      },
      "outputs": [],
      "source": [
        "img_dir = \"/content/drive/MyDrive/cricket-bat-detection-new/cricket-images-new/\" ## replace with data dir\n",
        "lab_dir = \"out/\""
      ]
    },
    {
      "cell_type": "code",
      "execution_count": 4,
      "metadata": {
        "id": "ksGwoKDCgRGE"
      },
      "outputs": [],
      "source": [
        "all_txts = glob.glob(\"out/*.txt\")"
      ]
    },
    {
      "cell_type": "code",
      "execution_count": null,
      "metadata": {
        "id": "wYDgwaGDgWvn"
      },
      "outputs": [],
      "source": [
        "import os\n",
        "os.makedirs(\"datasets/data/images/train\")\n",
        "os.makedirs(\"datasets/data/images/val\")\n",
        "os.makedirs(\"datasets/data/labels/train\")\n",
        "os.makedirs(\"datasets/data/labels/val\")"
      ]
    },
    {
      "cell_type": "code",
      "execution_count": 5,
      "metadata": {
        "id": "p2v7JIqYgjOu"
      },
      "outputs": [],
      "source": [
        "train_txt = all_txts[:120]\n",
        "val_txt = all_txts[120:]"
      ]
    },
    {
      "cell_type": "code",
      "execution_count": null,
      "metadata": {
        "id": "0nXqQfIag1DY"
      },
      "outputs": [],
      "source": [
        "import shutil"
      ]
    },
    {
      "cell_type": "code",
      "execution_count": null,
      "metadata": {
        "colab": {
          "base_uri": "https://localhost:8080/",
          "height": 35
        },
        "id": "Ix95vjrWhHqj",
        "outputId": "0c8324fc-41ac-4d5d-d1d1-9503d4b9a860"
      },
      "outputs": [
        {
          "data": {
            "application/vnd.google.colaboratory.intrinsic+json": {
              "type": "string"
            },
            "text/plain": [
              "'demo'"
            ]
          },
          "execution_count": 10,
          "metadata": {},
          "output_type": "execute_result"
        }
      ],
      "source": [
        "os.path.splitext(\"demo.txt\")[0]"
      ]
    },
    {
      "cell_type": "code",
      "execution_count": null,
      "metadata": {
        "id": "XG4V6xbegguV"
      },
      "outputs": [],
      "source": [
        "[\n",
        "    (\n",
        "        shutil.copy(txt,\"datasets/data/labels/train\"),\n",
        "        shutil.copy(os.path.join(\n",
        "            img_dir,\n",
        "           f\"{os.path.splitext(os.path.split(txt)[-1])[0]}.jpg\"\n",
        "            ),\"datasets/data/images/train\")\n",
        "\n",
        "    )\n",
        "    for txt in train_txt\n",
        "]"
      ]
    },
    {
      "cell_type": "code",
      "execution_count": null,
      "metadata": {
        "id": "AOegR4HUhnnq"
      },
      "outputs": [],
      "source": [
        "[\n",
        "    (\n",
        "        shutil.copy(txt,\"datasets/data/labels/val/\"),\n",
        "        shutil.copy(os.path.join(\n",
        "            img_dir,\n",
        "           f\"{os.path.splitext(os.path.split(txt)[-1])[0]}.jpg\"\n",
        "            ),\"datasets/data/images/val\")\n",
        "\n",
        "    )\n",
        "    for txt in val_txt\n",
        "]"
      ]
    },
    {
      "cell_type": "code",
      "execution_count": null,
      "metadata": {
        "id": "zXu0W9LBivhm"
      },
      "outputs": [],
      "source": [
        "# for dir in [\"datasets/data/images/val\",\"datasets/data/images/train\"]:\n",
        "#   for fn in os.listdir(dir):\n",
        "#     shutil.copy(os.path.join(dir,fn),img_dir)"
      ]
    },
    {
      "cell_type": "code",
      "execution_count": null,
      "metadata": {
        "colab": {
          "base_uri": "https://localhost:8080/"
        },
        "id": "bfKDRIksjFRL",
        "outputId": "62725392-2e1b-43e1-cd33-43cb27c2f337"
      },
      "outputs": [
        {
          "name": "stdout",
          "output_type": "stream",
          "text": [
            "\u001b[?25l     \u001b[90m━━━━━━━━━━━━━━━━━━━━━━━━━━━━━━━━━━━━━━━━\u001b[0m \u001b[32m0.0/617.0 kB\u001b[0m \u001b[31m?\u001b[0m eta \u001b[36m-:--:--\u001b[0m\r\u001b[2K     \u001b[91m━━━━━\u001b[0m\u001b[91m╸\u001b[0m\u001b[90m━━━━━━━━━━━━━━━━━━━━━━━━━━━━━━━━━━\u001b[0m \u001b[32m92.2/617.0 kB\u001b[0m \u001b[31m2.4 MB/s\u001b[0m eta \u001b[36m0:00:01\u001b[0m\r\u001b[2K     \u001b[91m━━━━━━━━━━━━━━━━━━━━━━━━━━━━━━━━\u001b[0m\u001b[90m╺\u001b[0m\u001b[90m━━━━━━\u001b[0m \u001b[32m512.0/617.0 kB\u001b[0m \u001b[31m7.4 MB/s\u001b[0m eta \u001b[36m0:00:01\u001b[0m\r\u001b[2K     \u001b[90m━━━━━━━━━━━━━━━━━━━━━━━━━━━━━━━━━━━━━━━\u001b[0m \u001b[32m617.0/617.0 kB\u001b[0m \u001b[31m6.9 MB/s\u001b[0m eta \u001b[36m0:00:00\u001b[0m\n",
            "\u001b[?25h"
          ]
        }
      ],
      "source": [
        "!pip install ultralytics -q"
      ]
    },
    {
      "cell_type": "code",
      "execution_count": null,
      "metadata": {
        "id": "U8jSKIZVjdOx"
      },
      "outputs": [],
      "source": [
        "from ultralytics import YOLO\n",
        "\n",
        "fliplr = 0.0\n",
        "model = YOLO('yolov8l-pose.pt')\n",
        "\n",
        "model.train(data='config.yaml', epochs=20,fliplr = 0.0)"
      ]
    }
  ],
  "metadata": {
    "accelerator": "GPU",
    "colab": {
      "provenance": []
    },
    "kernelspec": {
      "display_name": "Python 3",
      "name": "python3"
    },
    "language_info": {
      "name": "python"
    }
  },
  "nbformat": 4,
  "nbformat_minor": 0
}